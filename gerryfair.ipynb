{
 "cells": [
  {
   "cell_type": "code",
   "execution_count": null,
   "metadata": {},
   "outputs": [],
   "source": [
    "import pandas as pd\n",
    "import numpy as np\n",
    "import warnings\n",
    "from functions import metrics\n",
    "import csv\n",
    "from sklearn.exceptions import ConvergenceWarning\n",
    "from functions.formatting import get_subgroup_str\n",
    "from itertools import product, combinations\n",
    "import matplotlib.pyplot as plt\n",
    "import ast\n",
    "\n",
    "warnings.filterwarnings(\"ignore\", category=ConvergenceWarning)"
   ]
  },
  {
   "cell_type": "markdown",
   "metadata": {},
   "source": [
    "### Load Preprocessed File\n",
    "\n",
    "First we will load the preprocessed data file and create the X and y dataframes. \n",
    "\n",
    "The variable `preprocessed_filename` should hold the path to the preprocessed data."
   ]
  },
  {
   "cell_type": "code",
   "execution_count": null,
   "metadata": {},
   "outputs": [],
   "source": [
    "preprocessed_filename = './data/preprocessed.csv'\n",
    "\n",
    "df = pd.read_csv(preprocessed_filename)\n",
    "df.drop(['umich_user_id', 'Unnamed: 0'], axis=1, inplace=True)\n",
    "\n",
    "X = df.drop('completed', axis=1)\n",
    "y = df['completed']"
   ]
  },
  {
   "cell_type": "markdown",
   "metadata": {},
   "source": [
    "### Generating Combos\n",
    "\n",
    "Now we will generate all possible intersectional combinations of the protected attributes, which are country, education, race, and gender. We will be able to see fpr and auc data for all combinatorially possible intersectional groups."
   ]
  },
  {
   "cell_type": "code",
   "execution_count": null,
   "metadata": {},
   "outputs": [],
   "source": [
    "def compute_combos(demo_groups):\n",
    "    \"\"\"\n",
    "    Compute all possible combinations of demographic groups.\n",
    "\n",
    "    Args:\n",
    "        demo_groups (list[list]): A 2D array of demographic groups.\n",
    "\n",
    "    Returns:\n",
    "        list[tuple]: A list of tuples representing all possible combinations of demographic groups.\n",
    "    \"\"\"\n",
    "    ret = []\n",
    "    for i in range(1,len(demo_groups)+1):\n",
    "        g = list(combinations(demo_groups, i))\n",
    "        for demos in g:\n",
    "            ret += list(product(*demos))\n",
    "    \n",
    "    ret.sort(key=len)\n",
    "    ret.insert(0, ())\n",
    "\n",
    "    return ret"
   ]
  },
  {
   "cell_type": "code",
   "execution_count": null,
   "metadata": {},
   "outputs": [],
   "source": [
    "demo_groups = [['US', 'intl'], ['bachelor_obtained', 'no_bachelor_obtained', 'education_na'], ['white', 'black', 'asian', 'latinx', 'race_others', 'race_na'], ['male', 'female', 'gender_na', 'gender_other']]\n",
    "\n",
    "combos = compute_combos(demo_groups)"
   ]
  },
  {
   "cell_type": "markdown",
   "metadata": {},
   "source": [
    "### Setting demographic and protected attributes\n",
    "\n",
    "Here we set the demographic and protected attributes for gerryfair. Update the `protected` variable to choose whether you want all variables protected, race + gender protected, or black + female protected.\n"
   ]
  },
  {
   "cell_type": "code",
   "execution_count": null,
   "metadata": {},
   "outputs": [],
   "source": [
    "demographics = ['US', 'intl', 'bachelor_obtained', 'no_bachelor_obtained', 'education_na', 'white', 'black', 'asian', 'latinx', 'race_others', 'race_na', 'male', 'female', 'gender_na', 'gender_other']\n",
    "\n",
    "all_protected=['US', 'intl', 'bachelor_obtained', 'no_bachelor_obtained', 'white', 'black', 'asian', 'latinx', 'male', 'female']\n",
    "race_gender_protected = ['white', 'black', 'asian', 'latinx', 'male', 'female']\n",
    "black_female_protected = ['black', 'female']"
   ]
  },
  {
   "cell_type": "code",
   "execution_count": null,
   "metadata": {},
   "outputs": [],
   "source": [
    "protected = all_protected"
   ]
  },
  {
   "cell_type": "code",
   "execution_count": null,
   "metadata": {},
   "outputs": [],
   "source": [
    "lin_reg_res = metrics.calc_metrics(X, y, combos, omit_demographics=True, demographics=demographics, protected=protected, is_gerryfair=False, iters=300)"
   ]
  },
  {
   "cell_type": "code",
   "execution_count": null,
   "metadata": {},
   "outputs": [],
   "source": [
    "# gerryfair_res = metrics.calc_metrics(X, y, combos, omit_demographics=True, demographics=demographics, protected=all_protected, is_gerryfair=True, iters=20)"
   ]
  },
  {
   "cell_type": "code",
   "execution_count": null,
   "metadata": {},
   "outputs": [],
   "source": [
    "output_file = \"./data/MTC508_lin_reg_subgroup_data_without_demographics.csv\"\n",
    "\n",
    "# Write the data to a CSV file\n",
    "with open(output_file, 'w', newline='') as csvfile:\n",
    "    fieldnames = [\n",
    "        'subgroup', 'n', 'auc_avg', 'auc_std', 'fpr_avg', 'fpr_std', 'rmse_avg', 'rmse_std']\n",
    "    writer = csv.DictWriter(csvfile, fieldnames=fieldnames)\n",
    "    \n",
    "    writer.writeheader()  # Write the header row\n",
    "    for row in lin_reg_res:\n",
    "        writer.writerow(row)"
   ]
  },
  {
   "cell_type": "markdown",
   "metadata": {},
   "source": [
    "Read from file"
   ]
  },
  {
   "cell_type": "code",
   "execution_count": null,
   "metadata": {},
   "outputs": [],
   "source": [
    "subgroup_data = pd.read_csv('./data/MTC508_subgroup_data_without_demographics.csv')\n",
    "fpr_data = {}\n",
    "# loop through each subgroup\n",
    "# for each subgroup, get the corresponding data\n",
    "for index, row in subgroup_data.iterrows():\n",
    "    fpr_data[row['subgroup']] = row['fpr_avg']"
   ]
  },
  {
   "cell_type": "code",
   "execution_count": null,
   "metadata": {},
   "outputs": [],
   "source": [
    "subgroup_data = pd.read_csv('./data/MTC508_subgroup_data_without_demographics.csv')\n",
    "auc_data = {}\n",
    "# loop through each subgroup\n",
    "# for each subgroup, get the corresponding data\n",
    "for index, row in subgroup_data.iterrows():\n",
    "    auc_data[row['subgroup']] = row['auc_avg']"
   ]
  },
  {
   "cell_type": "code",
   "execution_count": null,
   "metadata": {},
   "outputs": [],
   "source": [
    "def get_data_iters(start, stop, step, attrs, protected):\n",
    "    ret_val_auc = []\n",
    "    ret_val_fpr = []\n",
    "    data = []\n",
    "    for i in range(start+1,stop+1,step):\n",
    "        data.append(metrics.calc_metrics(X, y, combos, omit_demographics=True, demographics=demographics, protected=protected, is_gerryfair=True, iters=i))\n",
    "    \n",
    "    for a in attrs:\n",
    "        aucs = []\n",
    "        fprs = []\n",
    "        for res in data:\n",
    "            for subgroup in res:\n",
    "                if subgroup['subgroup'] == a:\n",
    "                    aucs.append(float(subgroup['auc_avg']))\n",
    "                    fprs.append(float(subgroup['fpr_avg']))\n",
    "                    break\n",
    "\n",
    "        iterations = np.array(list(range(start, stop, step)))\n",
    "\n",
    "        other_algorithm_auc = np.linspace(auc_data[a], auc_data[a], iterations.size)\n",
    "        other_algorithm_fpr = np.linspace(fpr_data[a], fpr_data[a], iterations.size)\n",
    "\n",
    "        ret_val_auc.append((iterations, aucs, other_algorithm_auc))\n",
    "        ret_val_fpr.append((iterations, fprs, other_algorithm_fpr))\n",
    "    \n",
    "    return ret_val_auc, ret_val_fpr"
   ]
  },
  {
   "cell_type": "code",
   "execution_count": null,
   "metadata": {},
   "outputs": [],
   "source": [
    "attrs = ['Overall', 'black', 'white', 'female', 'male', 'black, female']"
   ]
  },
  {
   "cell_type": "code",
   "execution_count": null,
   "metadata": {},
   "outputs": [],
   "source": [
    "val_auc, val_fpr = get_data_iters(0, 301, 20, attrs, all_protected)"
   ]
  },
  {
   "cell_type": "code",
   "execution_count": null,
   "metadata": {},
   "outputs": [],
   "source": [
    "def save_results(data, name):\n",
    "    arr = np.array(data)\n",
    "    flat_data = arr.reshape(arr.shape[0], -1)\n",
    "\n",
    "    # Create a DataFrame with columns representing each element of the 2D array\n",
    "    df = pd.DataFrame(flat_data, columns=[f'Value_{i}' for i in range(flat_data.shape[1])])\n",
    "\n",
    "    # Save DataFrame to CSV file\n",
    "    df.to_csv('results/' + name, index=False)"
   ]
  },
  {
   "cell_type": "code",
   "execution_count": null,
   "metadata": {},
   "outputs": [],
   "source": [
    "def read_results(name):\n",
    "    read_df = pd.read_csv('results/' + name)\n",
    "\n",
    "    # Convert the 'Values' column back to a 3D array\n",
    "    read_array_data = read_df.values.reshape(read_df.shape[0], 3, -1)\n",
    "    return read_array_data"
   ]
  },
  {
   "cell_type": "code",
   "execution_count": null,
   "metadata": {},
   "outputs": [],
   "source": [
    "fpr_file = 'fpr_results.csv'\n",
    "auc_file = 'auc_results.csv'\n",
    "\n",
    "save_results(val_fpr, fpr_file)\n",
    "save_results(val_auc, auc_file)"
   ]
  },
  {
   "cell_type": "code",
   "execution_count": null,
   "metadata": {},
   "outputs": [],
   "source": [
    "fpr_data = read_results(fpr_file)\n",
    "auc_data = read_results(auc_file)"
   ]
  },
  {
   "cell_type": "code",
   "execution_count": null,
   "metadata": {},
   "outputs": [],
   "source": [
    "def build_combined_graph(val, attributes):\n",
    "    # Set distinct colors for each attribute\n",
    "    colors = ['b', 'g', 'r', 'c', 'm', 'y']  # You can add more colors if needed\n",
    "\n",
    "    # Create a single plot\n",
    "    plt.figure(figsize=(12, 6))  # Adjust the figure size as needed\n",
    "\n",
    "    for i, attr in enumerate(attributes):\n",
    "        x_axis, y_axis, other_algorithm_fpr = val[i]\n",
    "        plt.plot(x_axis, y_axis, linestyle='-', label=f'GerryFair - {attr.capitalize()}', color=colors[i])\n",
    "        plt.plot(x_axis, other_algorithm_fpr, linestyle='-', label=f'LR Without Gerryfair - {attr.capitalize()}', color=colors[i], alpha=0.5)\n",
    "\n",
    "    # Set the y-axis range to 0 to 1\n",
    "    plt.ylim(0, 1)\n",
    "\n",
    "    plt.xlabel('Iterations')\n",
    "    plt.ylabel('FPR')\n",
    "    plt.title('Comparison of Algorithms - FPR vs Iterations (Race + Gender Protected)')\n",
    "\n",
    "    # Move the legend outside the axes\n",
    "    plt.legend(bbox_to_anchor=(1.05, 1), loc='upper left')\n",
    "\n",
    "    # Automatically adjust subplot parameters to give specified padding\n",
    "    plt.tight_layout()\n",
    "\n",
    "    plt.show()"
   ]
  },
  {
   "cell_type": "code",
   "execution_count": null,
   "metadata": {},
   "outputs": [],
   "source": [
    "attributes = [\"Overall\", \"Black\", \"White\", \"Female\", \"Male\", \"Black + Female\"]"
   ]
  },
  {
   "cell_type": "code",
   "execution_count": null,
   "metadata": {},
   "outputs": [],
   "source": [
    "build_combined_graph(fpr_data, attributes)"
   ]
  },
  {
   "cell_type": "code",
   "execution_count": null,
   "metadata": {},
   "outputs": [],
   "source": [
    "build_combined_graph(auc_data, attributes)"
   ]
  },
  {
   "cell_type": "code",
   "execution_count": null,
   "metadata": {},
   "outputs": [],
   "source": [
    "def build_graph_gamma(iters, gammas, attrs, protected, is_fpr=True):\n",
    "    results = []\n",
    "    for g in gammas:\n",
    "        results.append(metrics.calc_metrics(X, y, combos, omit_demographics=True, demographics=demographics, protected=protected, is_gerryfair=True, iters=iters+1, gamma=g))\n",
    "    \n",
    "    if is_fpr:\n",
    "        metric = 'fpr'\n",
    "    else:\n",
    "        metric = 'auc'\n",
    "\n",
    "    data = results\n",
    "    for a in attrs:\n",
    "        values = []\n",
    "        for res in results:\n",
    "            for subgroup in res:\n",
    "                if subgroup['subgroup'] == a:\n",
    "                    values.append(float(subgroup[f'{metric}_avg']))\n",
    "                    break\n",
    "        \n",
    "        values = np.array(values)\n",
    "        gammas = np.array(gammas)\n",
    "\n",
    "        if is_fpr:\n",
    "            other_algorithm = np.linspace(fpr_data[a], fpr_data[a], gammas.size)\n",
    "        else:\n",
    "            other_algorithm = np.linspace(auc_data[a], auc_data[a], gammas.size)    \n",
    "\n",
    "        plt.plot(gammas, data, marker='o', linestyle='-', label='GerryFair')\n",
    "\n",
    "        plt.plot(gammas, other_algorithm, marker='s', linestyle='-', label='Other Algorithm')\n",
    "\n",
    "        plt.xlabel('Gamma')\n",
    "        plt.ylabel(f'False Positive Rate ({metric.upper()})')\n",
    "        plt.title(f'Comparison of Algorithms - {metric.upper()} vs Gamma For ' + a.capitalize())\n",
    "\n",
    "        plt.legend()\n",
    "\n",
    "        plt.show()"
   ]
  },
  {
   "cell_type": "code",
   "execution_count": null,
   "metadata": {},
   "outputs": [],
   "source": [
    "build_graph_gamma(5, [.002, .005, .01, .02, .05, .1], ['Overall', 'black', 'female', 'black, female'])"
   ]
  }
 ],
 "metadata": {
  "language_info": {
   "name": "python"
  }
 },
 "nbformat": 4,
 "nbformat_minor": 2
}
