{
 "cells": [
  {
   "cell_type": "code",
   "execution_count": 9,
   "metadata": {},
   "outputs": [
    {
     "name": "stdout",
     "output_type": "stream",
     "text": [
      "...\n",
      "...\n"
     ]
    }
   ],
   "source": [
    "import cohere\n",
    "import os\n",
    "\n",
    "co = cohere.Client(print(os.environ['API_KEY']))\n",
    "\n",
    "my_dataset = co.datasets.create(\n",
    "  name=\"Spanglish Conversation\",\n",
    "  type=\"chat-finetune-input\",\n",
    "  data=open(\"./spanglish2.jsonl\", \"rb\"),\n",
    ")\n",
    "\n",
    "result = co.wait(my_dataset)"
   ]
  },
  {
   "cell_type": "code",
   "execution_count": 10,
   "metadata": {},
   "outputs": [],
   "source": [
    "from cohere.finetuning import FinetunedModel, Settings, BaseModel\n",
    "\n",
    "# start training a custom model using the dataset\n",
    "finetuned_model = co.finetuning.create_finetuned_model(\n",
    "  request=FinetunedModel(\n",
    "    name=\"spanglish-model\",\n",
    "    settings=Settings(\n",
    "      base_model=BaseModel(\n",
    "        base_type=\"BASE_TYPE_CHAT\",\n",
    "      ),\n",
    "      dataset_id=my_dataset.id,\n",
    "    ),\n",
    "  ),\n",
    ")"
   ]
  },
  {
   "cell_type": "code",
   "execution_count": null,
   "metadata": {},
   "outputs": [],
   "source": []
  }
 ],
 "metadata": {
  "kernelspec": {
   "display_name": ".venv",
   "language": "python",
   "name": "python3"
  },
  "language_info": {
   "codemirror_mode": {
    "name": "ipython",
    "version": 3
   },
   "file_extension": ".py",
   "mimetype": "text/x-python",
   "name": "python",
   "nbconvert_exporter": "python",
   "pygments_lexer": "ipython3",
   "version": "3.11.6"
  },
  "orig_nbformat": 4
 },
 "nbformat": 4,
 "nbformat_minor": 2
}
